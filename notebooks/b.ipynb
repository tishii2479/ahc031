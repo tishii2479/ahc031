{
 "cells": [
  {
   "cell_type": "code",
   "execution_count": 8,
   "metadata": {},
   "outputs": [],
   "source": [
    "import numpy as np\n",
    "import pandas as pd"
   ]
  },
  {
   "cell_type": "code",
   "execution_count": 5,
   "metadata": {},
   "outputs": [],
   "source": [
    "def read_input(case: int):\n",
    "    with open(f\"../tools/in/{case:04}.txt\", \"r\") as f:\n",
    "        w, d, n = map(int, f.readline().split())\n",
    "        a = [list(map(int, f.readline().split())) for _ in range(d)]\n",
    "    return w, d, n, a"
   ]
  },
  {
   "cell_type": "code",
   "execution_count": 11,
   "metadata": {},
   "outputs": [],
   "source": [
    "data = []\n",
    "for seed in range(0, 10000):\n",
    "    w, d, n, a = read_input(seed)\n",
    "    a = np.array(a)\n",
    "    data.append((f\"tools/in/{seed:04}.txt\", d, n, a.sum(axis=1).mean()))"
   ]
  },
  {
   "cell_type": "code",
   "execution_count": 15,
   "metadata": {},
   "outputs": [],
   "source": [
    "pd.DataFrame(data, columns=[\"input_file\", \"d\", \"n\", \"a.sum.mean\"]).to_csv(\n",
    "    \"../log/input.csv\", index=False\n",
    ")"
   ]
  },
  {
   "cell_type": "code",
   "execution_count": null,
   "metadata": {},
   "outputs": [],
   "source": []
  }
 ],
 "metadata": {
  "kernelspec": {
   "display_name": "Python 3",
   "language": "python",
   "name": "python3"
  },
  "language_info": {
   "codemirror_mode": {
    "name": "ipython",
    "version": 3
   },
   "file_extension": ".py",
   "mimetype": "text/x-python",
   "name": "python",
   "nbconvert_exporter": "python",
   "pygments_lexer": "ipython3",
   "version": "3.10.4"
  }
 },
 "nbformat": 4,
 "nbformat_minor": 2
}
