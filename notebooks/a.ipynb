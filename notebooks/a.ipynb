{
 "cells": [
  {
   "cell_type": "code",
   "execution_count": 1,
   "metadata": {},
   "outputs": [],
   "source": [
    "import matplotlib.pyplot as plt\n",
    "import numpy as np"
   ]
  },
  {
   "cell_type": "code",
   "execution_count": 2,
   "metadata": {},
   "outputs": [],
   "source": [
    "def read_input(case: int):\n",
    "    with open(f\"../tools/in/{case:04}.txt\", \"r\") as f:\n",
    "        w, d, n = map(int, f.readline().split())\n",
    "        a = [list(map(int, f.readline().split())) for _ in range(d)]\n",
    "    return w, d, n, a"
   ]
  },
  {
   "cell_type": "code",
   "execution_count": 3,
   "metadata": {},
   "outputs": [
    {
     "name": "stdout",
     "output_type": "stream",
     "text": [
      "34 1382968 995722.7 191961\n"
     ]
    }
   ],
   "source": [
    "for seed in range(34, 35):\n",
    "    w, d, n, a = read_input(seed)\n",
    "    a = np.array(a)\n",
    "    print(seed, a.max(axis=0).sum(), a.sum(axis=1).mean(), a.max())"
   ]
  },
  {
   "cell_type": "code",
   "execution_count": 4,
   "metadata": {},
   "outputs": [
    {
     "data": {
      "text/plain": [
       "array([989524, 980095, 987916, 979569, 990070, 991693, 989852, 989015,\n",
       "       981393, 980321, 977579, 981254, 988370, 986859, 978110, 980555,\n",
       "       986838, 986542, 987634, 978041, 989340, 985699, 983858, 985453,\n",
       "       986212])"
      ]
     },
     "execution_count": 4,
     "metadata": {},
     "output_type": "execute_result"
    }
   ],
   "source": [
    "w, d, n, a = read_input(1)\n",
    "a = np.array(a)\n",
    "a.sum(axis=1)"
   ]
  },
  {
   "cell_type": "code",
   "execution_count": null,
   "metadata": {},
   "outputs": [],
   "source": []
  }
 ],
 "metadata": {
  "kernelspec": {
   "display_name": "Python 3",
   "language": "python",
   "name": "python3"
  },
  "language_info": {
   "codemirror_mode": {
    "name": "ipython",
    "version": 3
   },
   "file_extension": ".py",
   "mimetype": "text/x-python",
   "name": "python",
   "nbconvert_exporter": "python",
   "pygments_lexer": "ipython3",
   "version": "3.10.4"
  }
 },
 "nbformat": 4,
 "nbformat_minor": 2
}
