{
 "cells": [
  {
   "cell_type": "code",
   "execution_count": 1,
   "metadata": {},
   "outputs": [],
   "source": [
    "import matplotlib.pyplot as plt\n",
    "import numpy as np"
   ]
  },
  {
   "cell_type": "code",
   "execution_count": 2,
   "metadata": {},
   "outputs": [],
   "source": [
    "def read_input(case: int):\n",
    "    with open(f\"../tools/in/{case:04}.txt\", \"r\") as f:\n",
    "        w, d, n = map(int, f.readline().split())\n",
    "        a = [list(map(int, f.readline().split())) for _ in range(d)]\n",
    "    return w, d, n, a"
   ]
  },
  {
   "cell_type": "code",
   "execution_count": 6,
   "metadata": {},
   "outputs": [
    {
     "name": "stdout",
     "output_type": "stream",
     "text": [
      "0 5 10 1048178 777225.8 280526\n",
      "1 25 36 1328253 984871.68 188261\n",
      "2 25 15 1431315 956907.92 332048\n",
      "3 11 42 1238435 946477.0909090909 171855\n",
      "4 9 37 1220600 972477.3333333334 121485\n",
      "5 49 23 1224571 761968.306122449 205316\n",
      "6 5 34 1048726 925357.2 106487\n",
      "7 15 26 1123790 814313.9333333333 170200\n",
      "8 26 18 1347069 915342.5384615385 283314\n",
      "9 6 10 1110748 798604.6666666666 378191\n",
      "10 28 7 1812970 959044.7142857143 727608\n",
      "11 18 31 1343567 942144.8333333334 202246\n",
      "12 39 21 1208578 767285.282051282 254279\n",
      "13 24 23 1343829 968100.0416666666 236798\n",
      "14 23 39 1239454 941313.5652173914 150812\n",
      "15 24 30 1300055 907879.9583333334 236358\n",
      "16 44 19 1527598 971289.9090909091 340014\n",
      "17 16 40 1179753 915114.6875 114672\n",
      "18 34 32 1089818 758920.8529411765 160890\n",
      "19 37 36 1418421 965591.1081081082 236079\n"
     ]
    }
   ],
   "source": [
    "for seed in range(0, 20):\n",
    "    w, d, n, a = read_input(seed)\n",
    "    a = np.array(a)\n",
    "    print(seed, d, n, a.max(axis=0).sum(), a.sum(axis=1).mean(), a.max())"
   ]
  },
  {
   "cell_type": "code",
   "execution_count": 4,
   "metadata": {},
   "outputs": [
    {
     "data": {
      "text/plain": [
       "array([989524, 980095, 987916, 979569, 990070, 991693, 989852, 989015,\n",
       "       981393, 980321, 977579, 981254, 988370, 986859, 978110, 980555,\n",
       "       986838, 986542, 987634, 978041, 989340, 985699, 983858, 985453,\n",
       "       986212])"
      ]
     },
     "execution_count": 4,
     "metadata": {},
     "output_type": "execute_result"
    }
   ],
   "source": [
    "w, d, n, a = read_input(1)\n",
    "a = np.array(a)\n",
    "a.sum(axis=1)"
   ]
  },
  {
   "cell_type": "code",
   "execution_count": null,
   "metadata": {},
   "outputs": [],
   "source": []
  }
 ],
 "metadata": {
  "kernelspec": {
   "display_name": "Python 3",
   "language": "python",
   "name": "python3"
  },
  "language_info": {
   "codemirror_mode": {
    "name": "ipython",
    "version": 3
   },
   "file_extension": ".py",
   "mimetype": "text/x-python",
   "name": "python",
   "nbconvert_exporter": "python",
   "pygments_lexer": "ipython3",
   "version": "3.10.4"
  }
 },
 "nbformat": 4,
 "nbformat_minor": 2
}
