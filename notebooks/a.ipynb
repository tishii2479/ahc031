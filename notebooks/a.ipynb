{
 "cells": [
  {
   "cell_type": "code",
   "execution_count": 2,
   "metadata": {},
   "outputs": [],
   "source": [
    "import matplotlib.pyplot as plt\n",
    "import numpy as np"
   ]
  },
  {
   "cell_type": "code",
   "execution_count": 3,
   "metadata": {},
   "outputs": [],
   "source": [
    "def read_input(case: int):\n",
    "    with open(f\"../tools/in/{case:04}.txt\", \"r\") as f:\n",
    "        w, d, n = map(int, f.readline().split())\n",
    "        a = [list(map(int, f.readline().split())) for _ in range(d)]\n",
    "    return w, d, n, a"
   ]
  },
  {
   "cell_type": "code",
   "execution_count": 4,
   "metadata": {},
   "outputs": [
    {
     "name": "stdout",
     "output_type": "stream",
     "text": [
      "90 18 47 1291888 994268.6666666666 119108\n",
      "91 19 29 1071155 762405.6842105263 171079\n",
      "92 24 31 1278203 915131.9583333334 184796\n",
      "93 13 14 1263184 894494.4615384615 308560\n",
      "94 47 42 1369842 959922.5744680851 171207\n",
      "95 49 40 1338305 960309.5918367347 164719\n",
      "96 13 44 1139334 874030.7692307692 120893\n",
      "97 11 32 1036841 787742.5454545454 154281\n",
      "98 22 19 1494173 972848.4545454546 323214\n",
      "99 38 31 1341285 929400.6052631579 176574\n"
     ]
    }
   ],
   "source": [
    "for seed in range(90, 100):\n",
    "    w, d, n, a = read_input(seed)\n",
    "    a = np.array(a)\n",
    "    print(seed, d, n, a.max(axis=0).sum(), a.sum(axis=1).mean(), a.max())"
   ]
  },
  {
   "cell_type": "code",
   "execution_count": 5,
   "metadata": {},
   "outputs": [
    {
     "data": {
      "text/plain": [
       "array([989524, 980095, 987916, 979569, 990070, 991693, 989852, 989015,\n",
       "       981393, 980321, 977579, 981254, 988370, 986859, 978110, 980555,\n",
       "       986838, 986542, 987634, 978041, 989340, 985699, 983858, 985453,\n",
       "       986212])"
      ]
     },
     "execution_count": 5,
     "metadata": {},
     "output_type": "execute_result"
    }
   ],
   "source": [
    "w, d, n, a = read_input(1)\n",
    "a = np.array(a)\n",
    "a.sum(axis=1)"
   ]
  },
  {
   "cell_type": "code",
   "execution_count": null,
   "metadata": {},
   "outputs": [],
   "source": []
  }
 ],
 "metadata": {
  "kernelspec": {
   "display_name": "Python 3",
   "language": "python",
   "name": "python3"
  },
  "language_info": {
   "codemirror_mode": {
    "name": "ipython",
    "version": 3
   },
   "file_extension": ".py",
   "mimetype": "text/x-python",
   "name": "python",
   "nbconvert_exporter": "python",
   "pygments_lexer": "ipython3",
   "version": "3.10.4"
  }
 },
 "nbformat": 4,
 "nbformat_minor": 2
}
