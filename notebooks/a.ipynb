{
 "cells": [
  {
   "cell_type": "code",
   "execution_count": 2,
   "metadata": {},
   "outputs": [],
   "source": [
    "import matplotlib.pyplot as plt\n",
    "import numpy as np"
   ]
  },
  {
   "cell_type": "code",
   "execution_count": 3,
   "metadata": {},
   "outputs": [],
   "source": [
    "def read_input(case: int):\n",
    "    with open(f\"../tools/in/{case:04}.txt\", \"r\") as f:\n",
    "        w, d, n = map(int, f.readline().split())\n",
    "        a = [list(map(int, f.readline().split())) for _ in range(d)]\n",
    "    return w, d, n, a"
   ]
  },
  {
   "cell_type": "code",
   "execution_count": 4,
   "metadata": {},
   "outputs": [
    {
     "name": "stdout",
     "output_type": "stream",
     "text": [
      "0 1048178 777225.8 280526\n",
      "1 1328253 984871.68 188261\n",
      "2 1431315 956907.92 332048\n",
      "3 1238435 946477.0909090909 171855\n",
      "4 1220600 972477.3333333334 121485\n",
      "5 1224571 761968.306122449 205316\n",
      "6 1048726 925357.2 106487\n",
      "7 1123790 814313.9333333333 170200\n",
      "8 1347069 915342.5384615385 283314\n",
      "9 1110748 798604.6666666666 378191\n"
     ]
    }
   ],
   "source": [
    "for seed in range(10):\n",
    "    w, d, n, a = read_input(seed)\n",
    "    a = np.array(a)\n",
    "    print(seed, a.max(axis=0).sum(), a.sum(axis=1).mean(), a.max())"
   ]
  },
  {
   "cell_type": "code",
   "execution_count": 149,
   "metadata": {},
   "outputs": [
    {
     "data": {
      "text/plain": [
       "array([989524, 980095, 987916, 979569, 990070, 991693, 989852, 989015,\n",
       "       981393, 980321, 977579, 981254, 988370, 986859, 978110, 980555,\n",
       "       986838, 986542, 987634, 978041, 989340, 985699, 983858, 985453,\n",
       "       986212])"
      ]
     },
     "execution_count": 149,
     "metadata": {},
     "output_type": "execute_result"
    }
   ],
   "source": [
    "w, d, n, a = read_input(1)\n",
    "a = np.array(a)\n",
    "a.sum(axis=1)"
   ]
  },
  {
   "cell_type": "code",
   "execution_count": null,
   "metadata": {},
   "outputs": [],
   "source": []
  }
 ],
 "metadata": {
  "kernelspec": {
   "display_name": "Python 3",
   "language": "python",
   "name": "python3"
  },
  "language_info": {
   "codemirror_mode": {
    "name": "ipython",
    "version": 3
   },
   "file_extension": ".py",
   "mimetype": "text/x-python",
   "name": "python",
   "nbconvert_exporter": "python",
   "pygments_lexer": "ipython3",
   "version": "3.10.4"
  }
 },
 "nbformat": 4,
 "nbformat_minor": 2
}
